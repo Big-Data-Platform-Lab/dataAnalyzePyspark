{
 "cells": [
  {
   "cell_type": "code",
   "execution_count": 13,
   "id": "b9a5f101-669b-4da6-8392-ec412ca57f27",
   "metadata": {},
   "outputs": [],
   "source": [
    "from pyspark.sql import SparkSession\n",
    "from pyspark.sql.functions import col"
   ]
  },
  {
   "cell_type": "code",
   "execution_count": 14,
   "id": "570472ff-921d-4b56-94fc-25fe27726c37",
   "metadata": {},
   "outputs": [],
   "source": [
    "from pyspark.sql import SparkSession\n",
    "from pyspark.ml.feature import Tokenizer\n",
    "from pyspark.sql.functions import explode, desc"
   ]
  },
  {
   "cell_type": "code",
   "execution_count": 3,
   "id": "cce888ed-6348-4194-80f8-c15b2ad0f172",
   "metadata": {},
   "outputs": [
    {
     "name": "stdout",
     "output_type": "stream",
     "text": [
      "-1\n"
     ]
    }
   ],
   "source": [
    "from konlpy.tag import Komoran\n",
    "import pandas as pd\n",
    "\n",
    "komoran = Komoran()\n",
    "sentiment_file = 'dictionary.csv'\n",
    "sentiment_df = pd.read_csv(sentiment_file, delimiter=',', header=None, encoding='utf-8')  # 인코딩 지정\n",
    "\n",
    "def get_sentiment_score(comment):\n",
    "    if isinstance(comment, str):  # ‘comment’가 문자열인지 확인\n",
    "        words = comment.split()  # 띄어쓰기를 기준으로 단어 분리\n",
    "        score = 0\n",
    "        for word in words:\n",
    "            found = sentiment_df[sentiment_df[0] == word]  # 단어 검색\n",
    "            if not found.empty:\n",
    "                #print(found)\n",
    "                polarity = found.iloc[0, 1]\n",
    "                # print('polarity', polarity)\n",
    "                # print('--------')\n",
    "                score += int(polarity)  # ‘P’이면 1, ‘N’이면 -1을 더함\n",
    "        return score\n",
    "    else:\n",
    "        return 0  # ‘comment’가 문자열이 아닌 경우 (NaN 등), 감정 점수로 0을 반환\n",
    "\n",
    "# ‘bigdata.csv’ 파일의 ‘comment’ 컬럼을 분석\n",
    "df = pd.read_csv('class_data2.csv', encoding='utf-8')\n",
    "#df['sentiment_score'] = df['comment'].apply(get_sentiment_score)\n",
    "\n",
    "score=get_sentiment_score('역시 윤석열 정부 짱이야하는짓이 전부다 판타스틱해')\n",
    "print(score)\n",
    "\n",
    "# 결과의 일부만 출력\n",
    "# print(df[['comment', 'sentiment_score']])\n",
    "# df.to_csv(\"result.csv\", index=False, encoding='utf-8-sig')\n",
    "\n",
    "\n"
   ]
  },
  {
   "cell_type": "code",
   "execution_count": null,
   "id": "a8f2b5f4-fb7e-4000-822f-f13b5045161e",
   "metadata": {},
   "outputs": [],
   "source": []
  }
 ],
 "metadata": {
  "kernelspec": {
   "display_name": "Python 3 (ipykernel)",
   "language": "python",
   "name": "python3"
  },
  "language_info": {
   "codemirror_mode": {
    "name": "ipython",
    "version": 3
   },
   "file_extension": ".py",
   "mimetype": "text/x-python",
   "name": "python",
   "nbconvert_exporter": "python",
   "pygments_lexer": "ipython3",
   "version": "3.11.6"
  }
 },
 "nbformat": 4,
 "nbformat_minor": 5
}
